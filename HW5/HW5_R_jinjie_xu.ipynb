{
 "cells": [
  {
   "cell_type": "markdown",
   "metadata": {},
   "source": [
    "# Homework 5 - R version\n",
    "\n",
    "## Instructions\n",
    "\n",
    "This assignment is due Monday, May 27 by 7pm. Please turn in a copy (either .pdf or .ipynb file) of this notebook as HW4 in Blackboard after you've completed it.\n",
    "\n",
    "Some questions refer you to the [ISL textbook](http://www-bcf.usc.edu/~gareth/ISL/ISLR%20Seventh%20Printing.pdf). You may work with other students in the class to solve the problems but should write up your solutions separately.  Some textbook problem solutions are available on the internet.  You are welcome to look at these after attempting the problem yourself first, but please write up your solutions in your own words"
   ]
  },
  {
   "cell_type": "markdown",
   "metadata": {},
   "source": [
    "## Conceptual Problems\n",
    "Do problems 1 and 3 in Chapter 7.9  and problem 4 of Chapter 8.4 of ISL. You may either type your answers here or turn in a written copy to my mailbox near BH 170."
   ]
  },
  {
   "cell_type": "markdown",
   "metadata": {},
   "source": [
    "### Chapter 7.9 Problem 1\n",
    "\n",
    "$f(x) = β_0 + β_1x + β_2x^2 + β_3x^3 + β_4(x − ξ)^3$\n",
    "\n",
    "#### a. \n",
    "$a_1 = β_0, b_1 = β_1, c_1 = β_2, d_1 = β_3$\n",
    "\n",
    "#### b. \n",
    "$f_2(x) = β_0 + β_1x + β_2x^2 + β_3x^3 + β_4(x − ξ)^3$\n",
    "         \n",
    "$     = β_0 + β_1x + β_2x^2 + β_3x^3 + β_4(x^3 - 3x^2ξ + 3xξ^2 − ξ^3)$\n",
    "   \n",
    "$     = β_0 + β_1x + β_2x^2 + β_3x^3 + β_4x^3 - 3β_4x^2ξ + 3β_4xξ^2 − β_4ξ^3$\n",
    "   \n",
    "$     = (β_0 − β_4ξ^3) + (β_1 + 3β_4ξ^2)x + (β_2 - 3β_4ξ)x^2 + (β_3 + β_4)x^3$\n",
    "   \n",
    "Thus, $a_2 = (β_0 − β_4ξ^3), b_2 = (β_1 + 3β_4ξ^2), c_2 = (β_2 - 3β_4ξ), d_2 = (β_3 + β_4)$\n",
    "   \n",
    "#### c. \n",
    "$f_1(ξ) = β_0 + β_1ξ + β_2ξ^2 + β_3ξ^3$\n",
    "   \n",
    "$f_2(ξ) = (β_0 − β_4ξ^3) + (β_1 + 3β_4ξ^2)ξ + (β_2 - 3β_4ξ)ξ^2 + (β_3 + β_4)ξ^3$\n",
    "\n",
    "$       = (β_0 − β_4ξ^3) + (β_1ξ + 3β_4ξ^3) + (β_2ξ^2 - 3β_4ξ^3) + (β_3ξ^3 + β_4ξ^3)$\n",
    "\n",
    "$       = β_0 + β_1ξ + β_2ξ^2 + (β_3 + β_4 − β_4 - 3β_4 + 3β_4)ξ^3$\n",
    "\n",
    "$       = β_0 + β_1ξ + β_2ξ^2 + β_3ξ^3$\n",
    "\n",
    "#### d.\n",
    "$f′(x) = b_1 + 2c_1x + 3d_1x^2$\n",
    "\n",
    "$f_1′(ξ) = β_1 + 2β_2ξ + 3β_3ξ^2$\n",
    "\n",
    "$f_2′(ξ) = β_1 + 3β_4ξ^2 + 2(β_2−3β_4ξ)ξ + 3(β_3 + β_4)ξ^2$\n",
    "\n",
    "$        = β_1 + 3β_4ξ^2 + 2β_2ξ − 6β_4ξ^2 + 3β_3ξ^2 + 3β_4ξ^2$\n",
    "\n",
    "$        = β_1 + 2β_2ξ + (− 6β_4 + 3β_3 + 3β_4 + 3β_4)ξ^2$\n",
    "\n",
    "$        = β_1 + 2β_2ξ + 3β_3ξ^2$\n",
    "\n",
    "#### e.\n",
    "$f′′(x) = 2c_1 + 6d_1x$\n",
    "\n",
    "$f_1′′(ξ) = 2β_2 + 6β_3ξ$\n",
    "\n",
    "$f_2′′(ξ) = 2(β_2 − 3β_4ξ) + 6(β_3 + β_4)ξ$\n",
    "\n",
    "$         = 2β_2 − 6β_4ξ + 6β_3ξ + 6β_4ξ$\n",
    "\n",
    "$         = 2β_2 + 6β_3ξ$"
   ]
  },
  {
   "cell_type": "markdown",
   "metadata": {},
   "source": [
    "### Chapter 7.9 Problem 3"
   ]
  },
  {
   "cell_type": "code",
   "execution_count": 1,
   "metadata": {},
   "outputs": [
    {
     "data": {
      "image/png": "[encoded data removed]",
      "text/plain": [
       "plot without title"
      ]
     },
     "metadata": {},
     "output_type": "display_data"
    }
   ],
   "source": [
    "x = -2:2\n",
    "y = 1 + x + -2 * (x-1)^2 * I(x >= 1)\n",
    "plot(x, y)"
   ]
  },
  {
   "cell_type": "markdown",
   "metadata": {},
   "source": [
    "# Exploring Penalized Splines via Simulation\n",
    "\n",
    "Run the code below to simulate a training data set of n=41 observations of Y, given x in (0, 4) where $Y = x^4-3x^3-x^2+5x+3+\\epsilon$ where $\\epsilon$ is the irreducible error. We'll use splines to estimate $f(x) =  x^4-3x^3-x^2+5x+3$ shown in blue."
   ]
  },
  {
   "cell_type": "code",
   "execution_count": 2,
   "metadata": {},
   "outputs": [
    {
     "data": {
      "text/plain": [
       "NULL"
      ]
     },
     "metadata": {},
     "output_type": "display_data"
    },
    {
     "data": {
      "image/png": "[encoded data removed]",
      "text/plain": [
       "plot without title"
      ]
     },
     "metadata": {},
     "output_type": "display_data"
    }
   ],
   "source": [
    "set.seed(42)  # get the random numbers\n",
    "\n",
    "x = seq(0, 4, 0.1) # the predictor\n",
    "dim(x)\n",
    "epsilon = rnorm(length(x), 0, 3) # irreducible error\n",
    "fx = x^4-3*x^3-x^2+5*x+3\n",
    "Y = fx + epsilon\n",
    "\n",
    "# view results\n",
    "\n",
    "plot(x, Y, col=\"red\", ylab='f(x) (blue) and Y (red)')\n",
    "lines(x, fx, col=\"blue\")\n"
   ]
  },
  {
   "cell_type": "code",
   "execution_count": 3,
   "metadata": {},
   "outputs": [],
   "source": [
    "# cubic truncated power basis with K = 30 knots \n",
    "\n",
    "knots = seq(0, 4, length.out=30)\n",
    "\n",
    "\n",
    "BB = cbind(1,x, x^2, x^3)\n",
    "#BB = BB.T\n",
    "\n",
    "for (i in 1:30) {\n",
    "    BB = cbind(BB,max(0,(x-knots[i])^3))\n",
    "}"
   ]
  },
  {
   "cell_type": "markdown",
   "metadata": {},
   "source": [
    "The above code creates the cubic truncated power basis with 30 evenly space knots and stores it in matrix BB.  Write code below to compute $\\beta = (BB^TBB+\\lambda I)^{-1}BB^T Y$, the ridge regression solution to minimizing the mean squared training error with the squared coefficients penalized, with your choice of $\\lambda$. Then compute $\\hat{y} = BB \\beta$.  Plot the true $f(x)$ together with your estimate.  Try a few other choices for $\\lambda$, and choose the one that visually gives the best estimate."
   ]
  },
  {
   "cell_type": "code",
   "execution_count": null,
   "metadata": {},
   "outputs": [],
   "source": [
    "beta = solve(t(BB) %*% BB + 5I), t(BB) %*% Y)"
   ]
  },
  {
   "cell_type": "markdown",
   "metadata": {},
   "source": [
    "# Problem 8.4.9\n",
    "\n",
    "Read the lab in section 8.3 of ISL.  \n",
    "\n",
    "Write code to answers problem 9 in Chapter 8.4 of ISL"
   ]
  },
  {
   "cell_type": "code",
   "execution_count": 4,
   "metadata": {},
   "outputs": [
    {
     "name": "stderr",
     "output_type": "stream",
     "text": [
      "Loading required package: ISLR\n",
      "Loading required package: tree\n"
     ]
    }
   ],
   "source": [
    "if( ! require(\"ISLR\") ){ install.packages(\"ISLR\");}\n",
    "if( ! require(\"tree\") ){ install.packages(\"tree\");}"
   ]
  },
  {
   "cell_type": "markdown",
   "metadata": {},
   "source": [
    "#### a."
   ]
  },
  {
   "cell_type": "code",
   "execution_count": 5,
   "metadata": {},
   "outputs": [],
   "source": [
    "library(ISLR)\n",
    "attach(OJ)\n",
    "set.seed(800)\n",
    "\n",
    "train = sample(dim(OJ)[1], 800)\n",
    "OJ.train = OJ[train, ]\n",
    "OJ.test = OJ[-train, ]"
   ]
  },
  {
   "cell_type": "markdown",
   "metadata": {},
   "source": [
    "#### b."
   ]
  },
  {
   "cell_type": "code",
   "execution_count": 6,
   "metadata": {},
   "outputs": [
    {
     "data": {
      "text/plain": [
       "\n",
       "Classification tree:\n",
       "tree(formula = Purchase ~ ., data = OJ.train)\n",
       "Variables actually used in tree construction:\n",
       "[1] \"LoyalCH\"       \"SalePriceMM\"   \"PriceDiff\"     \"ListPriceDiff\"\n",
       "Number of terminal nodes:  7 \n",
       "Residual mean deviance:  0.77 = 610.6 / 793 \n",
       "Misclassification error rate: 0.1625 = 130 / 800 "
      ]
     },
     "metadata": {},
     "output_type": "display_data"
    }
   ],
   "source": [
    "library(tree)\n",
    "oj.tree = tree(Purchase ~ ., data = OJ.train)\n",
    "summary(oj.tree)"
   ]
  },
  {
   "cell_type": "markdown",
   "metadata": {},
   "source": [
    "The training error rate is 0.1625. It has 7 terminal nodes"
   ]
  },
  {
   "cell_type": "markdown",
   "metadata": {},
   "source": [
    "#### c."
   ]
  },
  {
   "cell_type": "code",
   "execution_count": 7,
   "metadata": {},
   "outputs": [
    {
     "data": {
      "text/plain": [
       "node), split, n, deviance, yval, (yprob)\n",
       "      * denotes terminal node\n",
       "\n",
       " 1) root 800 1073.00 CH ( 0.60625 0.39375 )  \n",
       "   2) LoyalCH < 0.48285 299  315.60 MM ( 0.22074 0.77926 )  \n",
       "     4) LoyalCH < 0.051325 59   10.14 MM ( 0.01695 0.98305 ) *\n",
       "     5) LoyalCH > 0.051325 240  280.40 MM ( 0.27083 0.72917 )  \n",
       "      10) SalePriceMM < 2.04 133  122.50 MM ( 0.17293 0.82707 ) *\n",
       "      11) SalePriceMM > 2.04 107  143.40 MM ( 0.39252 0.60748 ) *\n",
       "   3) LoyalCH > 0.48285 501  446.60 CH ( 0.83633 0.16367 )  \n",
       "     6) LoyalCH < 0.764572 239  289.10 CH ( 0.70711 0.29289 )  \n",
       "      12) PriceDiff < -0.165 38   43.80 MM ( 0.26316 0.73684 ) *\n",
       "      13) PriceDiff > -0.165 201  206.10 CH ( 0.79104 0.20896 )  \n",
       "        26) ListPriceDiff < 0.255 95  118.50 CH ( 0.68421 0.31579 ) *\n",
       "        27) ListPriceDiff > 0.255 106   74.87 CH ( 0.88679 0.11321 ) *\n",
       "     7) LoyalCH > 0.764572 262   97.44 CH ( 0.95420 0.04580 ) *"
      ]
     },
     "metadata": {},
     "output_type": "display_data"
    }
   ],
   "source": [
    "oj.tree"
   ]
  },
  {
   "cell_type": "markdown",
   "metadata": {},
   "source": [
    "I pick \"3)\". The splitting variable is \"LoyalCH\". The splitting value is 0.48285. There are 501 points in the subtree below this node. The deviance for all points contained in region below is 446.60. The prediction at this node is Sales = CH. About 84% points have CH as value of Sales and remaining 16% points have MM as value of Sales."
   ]
  },
  {
   "cell_type": "markdown",
   "metadata": {},
   "source": [
    "#### d."
   ]
  },
  {
   "cell_type": "code",
   "execution_count": 8,
   "metadata": {},
   "outputs": [
    {
     "data": {
      "image/png": "[encoded data removed]",
      "text/plain": [
       "plot without title"
      ]
     },
     "metadata": {},
     "output_type": "display_data"
    }
   ],
   "source": [
    "plot(oj.tree)\n",
    "text(oj.tree, pretty = 0)"
   ]
  },
  {
   "cell_type": "markdown",
   "metadata": {},
   "source": [
    "“LoyalCH” is the most important variable of the tree. The top three nodes all contain LoyalCH. If LoyalCH < 0.051325, the tree predicts MM. If LoyalCH < 0.764572, the tree predicts CH. If LoyalCH < 0.764572, the decision also depends on the variable \"PriceDiff\""
   ]
  },
  {
   "cell_type": "markdown",
   "metadata": {},
   "source": [
    "#### e."
   ]
  },
  {
   "cell_type": "code",
   "execution_count": 9,
   "metadata": {},
   "outputs": [
    {
     "data": {
      "text/plain": [
       "    oj.pred\n",
       "      CH  MM\n",
       "  CH 138  30\n",
       "  MM  22  80"
      ]
     },
     "metadata": {},
     "output_type": "display_data"
    }
   ],
   "source": [
    "oj.pred = predict(oj.tree, OJ.test, type = \"class\")\n",
    "table(OJ.test$Purchase, oj.pred)"
   ]
  },
  {
   "cell_type": "markdown",
   "metadata": {},
   "source": [
    "#### f."
   ]
  },
  {
   "cell_type": "code",
   "execution_count": 10,
   "metadata": {},
   "outputs": [],
   "source": [
    "cv.oj = cv.tree(oj.tree, FUN = prune.tree)"
   ]
  },
  {
   "cell_type": "markdown",
   "metadata": {},
   "source": [
    "#### g."
   ]
  },
  {
   "cell_type": "code",
   "execution_count": 11,
   "metadata": {},
   "outputs": [
    {
     "data": {
      "image/png": "[encoded data removed]",
      "text/plain": [
       "plot without title"
      ]
     },
     "metadata": {},
     "output_type": "display_data"
    }
   ],
   "source": [
    "plot(cv.oj$size, cv.oj$dev, type = \"b\", xlab = \"Tree Size\", ylab = \"Deviance\")"
   ]
  },
  {
   "cell_type": "markdown",
   "metadata": {},
   "source": [
    "#### h."
   ]
  },
  {
   "cell_type": "markdown",
   "metadata": {},
   "source": [
    "Tree size 6 gives the lowest cross-validation error."
   ]
  },
  {
   "cell_type": "markdown",
   "metadata": {},
   "source": [
    "#### i."
   ]
  },
  {
   "cell_type": "code",
   "execution_count": 12,
   "metadata": {},
   "outputs": [],
   "source": [
    "oj.pruned = prune.tree(oj.tree, best = 6)"
   ]
  },
  {
   "cell_type": "markdown",
   "metadata": {},
   "source": [
    "#### j."
   ]
  },
  {
   "cell_type": "code",
   "execution_count": 13,
   "metadata": {},
   "outputs": [
    {
     "data": {
      "text/plain": [
       "\n",
       "Classification tree:\n",
       "snip.tree(tree = oj.tree, nodes = 13L)\n",
       "Variables actually used in tree construction:\n",
       "[1] \"LoyalCH\"     \"SalePriceMM\" \"PriceDiff\"  \n",
       "Number of terminal nodes:  6 \n",
       "Residual mean deviance:  0.785 = 623.3 / 794 \n",
       "Misclassification error rate: 0.1625 = 130 / 800 "
      ]
     },
     "metadata": {},
     "output_type": "display_data"
    }
   ],
   "source": [
    "summary(oj.pruned)"
   ]
  },
  {
   "cell_type": "markdown",
   "metadata": {},
   "source": [
    "Misclassification error rate is exactly the same as the original tree, which is 0.1625."
   ]
  },
  {
   "cell_type": "markdown",
   "metadata": {},
   "source": [
    "#### k."
   ]
  },
  {
   "cell_type": "code",
   "execution_count": 14,
   "metadata": {},
   "outputs": [
    {
     "data": {
      "text/html": [
       "0.192592592592593"
      ],
      "text/latex": [
       "0.192592592592593"
      ],
      "text/markdown": [
       "0.192592592592593"
      ],
      "text/plain": [
       "[1] 0.1925926"
      ]
     },
     "metadata": {},
     "output_type": "display_data"
    }
   ],
   "source": [
    "pred.unpruned = predict(oj.tree, OJ.test, type = \"class\")\n",
    "misclass.unpruned = sum(OJ.test$Purchase != pred.unpruned)\n",
    "misclass.unpruned/length(pred.unpruned)"
   ]
  },
  {
   "cell_type": "code",
   "execution_count": 15,
   "metadata": {},
   "outputs": [
    {
     "data": {
      "text/html": [
       "0.192592592592593"
      ],
      "text/latex": [
       "0.192592592592593"
      ],
      "text/markdown": [
       "0.192592592592593"
      ],
      "text/plain": [
       "[1] 0.1925926"
      ]
     },
     "metadata": {},
     "output_type": "display_data"
    }
   ],
   "source": [
    "pred.pruned = predict(oj.pruned, OJ.test, type = \"class\")\n",
    "misclass.pruned = sum(OJ.test$Purchase != pred.pruned)\n",
    "misclass.pruned/length(pred.pruned)"
   ]
  },
  {
   "cell_type": "code",
   "execution_count": null,
   "metadata": {},
   "outputs": [],
   "source": [
    "The unpruned and pruned tree have the same test error rate of 0.1926."
   ]
  }
 ],
 "metadata": {
  "kernelspec": {
   "display_name": "R",
   "language": "R",
   "name": "ir"
  },
  "language_info": {
   "codemirror_mode": "r",
   "file_extension": ".r",
   "mimetype": "text/x-r-source",
   "name": "R",
   "pygments_lexer": "r",
   "version": "3.6.0"
  }
 },
 "nbformat": 4,
 "nbformat_minor": 2
}
